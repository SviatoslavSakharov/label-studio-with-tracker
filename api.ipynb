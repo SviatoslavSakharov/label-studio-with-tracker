{
 "cells": [
  {
   "cell_type": "code",
   "execution_count": 20,
   "metadata": {},
   "outputs": [
    {
     "data": {
      "text/plain": [
       "{'status': 'UP'}"
      ]
     },
     "execution_count": 20,
     "metadata": {},
     "output_type": "execute_result"
    }
   ],
   "source": [
    "LABEL_STUDIO_URL = 'http://localhost:8080'\n",
    "API_KEY = 'a6021e2d67c73b759f4a27967a4932a3fd0eb6df'\n",
    "\n",
    "# Import the SDK and the client module\n",
    "from label_studio_sdk import Client\n",
    "\n",
    "# Connect to the Label Studio API and check the connection\n",
    "ls = Client(url=LABEL_STUDIO_URL, api_key=API_KEY)\n",
    "ls.check_connection()"
   ]
  },
  {
   "cell_type": "code",
   "execution_count": 31,
   "metadata": {},
   "outputs": [],
   "source": [
    "project = ls.get_project(5)\n",
    "tasks = project.get_tasks()"
   ]
  },
  {
   "cell_type": "code",
   "execution_count": 40,
   "metadata": {},
   "outputs": [
    {
     "ename": "LabelStudioAttributeError",
     "evalue": "Project \"delete_annotation\" field is not set",
     "output_type": "error",
     "traceback": [
      "\u001b[1;31m---------------------------------------------------------------------------\u001b[0m",
      "\u001b[1;31mLabelStudioAttributeError\u001b[0m                 Traceback (most recent call last)",
      "Cell \u001b[1;32mIn[40], line 4\u001b[0m\n\u001b[0;32m      2\u001b[0m \u001b[38;5;28;01mfor\u001b[39;00m annotation \u001b[38;5;129;01min\u001b[39;00m task[\u001b[38;5;124m\"\u001b[39m\u001b[38;5;124mannotations\u001b[39m\u001b[38;5;124m\"\u001b[39m]:\n\u001b[0;32m      3\u001b[0m     \u001b[38;5;28;01mfor\u001b[39;00m result \u001b[38;5;129;01min\u001b[39;00m annotation[\u001b[38;5;124m\"\u001b[39m\u001b[38;5;124mresult\u001b[39m\u001b[38;5;124m\"\u001b[39m]:\n\u001b[1;32m----> 4\u001b[0m         \u001b[43mproject\u001b[49m\u001b[38;5;241;43m.\u001b[39;49m\u001b[43mdelete_annotation\u001b[49m(result[\u001b[38;5;124m\"\u001b[39m\u001b[38;5;124mid\u001b[39m\u001b[38;5;124m\"\u001b[39m])\n",
      "File \u001b[1;32mc:\\Users\\Shadow\\miniconda3\\envs\\labeling\\lib\\site-packages\\label_studio_sdk\\project.py:118\u001b[0m, in \u001b[0;36mProject.__getattr__\u001b[1;34m(self, item)\u001b[0m\n\u001b[0;32m    117\u001b[0m \u001b[38;5;28;01mdef\u001b[39;00m \u001b[38;5;21m__getattr__\u001b[39m(\u001b[38;5;28mself\u001b[39m, item):\n\u001b[1;32m--> 118\u001b[0m     \u001b[38;5;28;01mreturn\u001b[39;00m \u001b[38;5;28;43mself\u001b[39;49m\u001b[38;5;241;43m.\u001b[39;49m\u001b[43m_get_param\u001b[49m\u001b[43m(\u001b[49m\u001b[43mitem\u001b[49m\u001b[43m)\u001b[49m\n",
      "File \u001b[1;32mc:\\Users\\Shadow\\miniconda3\\envs\\labeling\\lib\\site-packages\\label_studio_sdk\\project.py:290\u001b[0m, in \u001b[0;36mProject._get_param\u001b[1;34m(self, param_name)\u001b[0m\n\u001b[0;32m    288\u001b[0m     \u001b[38;5;28mself\u001b[39m\u001b[38;5;241m.\u001b[39mupdate_params()\n\u001b[0;32m    289\u001b[0m     \u001b[38;5;28;01mif\u001b[39;00m param_name \u001b[38;5;129;01mnot\u001b[39;00m \u001b[38;5;129;01min\u001b[39;00m \u001b[38;5;28mself\u001b[39m\u001b[38;5;241m.\u001b[39mparams:\n\u001b[1;32m--> 290\u001b[0m         \u001b[38;5;28;01mraise\u001b[39;00m LabelStudioAttributeError(\n\u001b[0;32m    291\u001b[0m             \u001b[38;5;124mf\u001b[39m\u001b[38;5;124m'\u001b[39m\u001b[38;5;124mProject \u001b[39m\u001b[38;5;124m\"\u001b[39m\u001b[38;5;132;01m{\u001b[39;00mparam_name\u001b[38;5;132;01m}\u001b[39;00m\u001b[38;5;124m\"\u001b[39m\u001b[38;5;124m field is not set\u001b[39m\u001b[38;5;124m'\u001b[39m\n\u001b[0;32m    292\u001b[0m         )\n\u001b[0;32m    293\u001b[0m \u001b[38;5;28;01mreturn\u001b[39;00m \u001b[38;5;28mself\u001b[39m\u001b[38;5;241m.\u001b[39mparams[param_name]\n",
      "\u001b[1;31mLabelStudioAttributeError\u001b[0m: Project \"delete_annotation\" field is not set"
     ]
    }
   ],
   "source": [
    "for task in tasks:\n",
    "    for annotation in task[\"annotations\"]:\n",
    "        for result in annotation[\"result\"]:\n",
    "            project.delete_annotation(result[\"id\"])\n",
    "    "
   ]
  },
  {
   "cell_type": "code",
   "execution_count": 25,
   "metadata": {},
   "outputs": [
    {
     "ename": "LabelStudioAttributeError",
     "evalue": "Project \"list_annotations\" field is not set",
     "output_type": "error",
     "traceback": [
      "\u001b[1;31m---------------------------------------------------------------------------\u001b[0m",
      "\u001b[1;31mLabelStudioAttributeError\u001b[0m                 Traceback (most recent call last)",
      "Cell \u001b[1;32mIn[25], line 1\u001b[0m\n\u001b[1;32m----> 1\u001b[0m annotations \u001b[38;5;241m=\u001b[39m [project\u001b[38;5;241m.\u001b[39mlist_annotations(task_id\u001b[38;5;241m=\u001b[39mtask[\u001b[38;5;124m\"\u001b[39m\u001b[38;5;124mid\u001b[39m\u001b[38;5;124m\"\u001b[39m]) \u001b[38;5;28;01mfor\u001b[39;00m task \u001b[38;5;129;01min\u001b[39;00m tasks]\n\u001b[0;32m      2\u001b[0m annotations\n",
      "Cell \u001b[1;32mIn[25], line 1\u001b[0m, in \u001b[0;36m<listcomp>\u001b[1;34m(.0)\u001b[0m\n\u001b[1;32m----> 1\u001b[0m annotations \u001b[38;5;241m=\u001b[39m [\u001b[43mproject\u001b[49m\u001b[38;5;241;43m.\u001b[39;49m\u001b[43mlist_annotations\u001b[49m(task_id\u001b[38;5;241m=\u001b[39mtask[\u001b[38;5;124m\"\u001b[39m\u001b[38;5;124mid\u001b[39m\u001b[38;5;124m\"\u001b[39m]) \u001b[38;5;28;01mfor\u001b[39;00m task \u001b[38;5;129;01min\u001b[39;00m tasks]\n\u001b[0;32m      2\u001b[0m annotations\n",
      "File \u001b[1;32mc:\\Users\\Shadow\\miniconda3\\envs\\labeling\\lib\\site-packages\\label_studio_sdk\\project.py:118\u001b[0m, in \u001b[0;36mProject.__getattr__\u001b[1;34m(self, item)\u001b[0m\n\u001b[0;32m    117\u001b[0m \u001b[38;5;28;01mdef\u001b[39;00m \u001b[38;5;21m__getattr__\u001b[39m(\u001b[38;5;28mself\u001b[39m, item):\n\u001b[1;32m--> 118\u001b[0m     \u001b[38;5;28;01mreturn\u001b[39;00m \u001b[38;5;28;43mself\u001b[39;49m\u001b[38;5;241;43m.\u001b[39;49m\u001b[43m_get_param\u001b[49m\u001b[43m(\u001b[49m\u001b[43mitem\u001b[49m\u001b[43m)\u001b[49m\n",
      "File \u001b[1;32mc:\\Users\\Shadow\\miniconda3\\envs\\labeling\\lib\\site-packages\\label_studio_sdk\\project.py:290\u001b[0m, in \u001b[0;36mProject._get_param\u001b[1;34m(self, param_name)\u001b[0m\n\u001b[0;32m    288\u001b[0m     \u001b[38;5;28mself\u001b[39m\u001b[38;5;241m.\u001b[39mupdate_params()\n\u001b[0;32m    289\u001b[0m     \u001b[38;5;28;01mif\u001b[39;00m param_name \u001b[38;5;129;01mnot\u001b[39;00m \u001b[38;5;129;01min\u001b[39;00m \u001b[38;5;28mself\u001b[39m\u001b[38;5;241m.\u001b[39mparams:\n\u001b[1;32m--> 290\u001b[0m         \u001b[38;5;28;01mraise\u001b[39;00m LabelStudioAttributeError(\n\u001b[0;32m    291\u001b[0m             \u001b[38;5;124mf\u001b[39m\u001b[38;5;124m'\u001b[39m\u001b[38;5;124mProject \u001b[39m\u001b[38;5;124m\"\u001b[39m\u001b[38;5;132;01m{\u001b[39;00mparam_name\u001b[38;5;132;01m}\u001b[39;00m\u001b[38;5;124m\"\u001b[39m\u001b[38;5;124m field is not set\u001b[39m\u001b[38;5;124m'\u001b[39m\n\u001b[0;32m    292\u001b[0m         )\n\u001b[0;32m    293\u001b[0m \u001b[38;5;28;01mreturn\u001b[39;00m \u001b[38;5;28mself\u001b[39m\u001b[38;5;241m.\u001b[39mparams[param_name]\n",
      "\u001b[1;31mLabelStudioAttributeError\u001b[0m: Project \"list_annotations\" field is not set"
     ]
    }
   ],
   "source": [
    "annotations = [project.list_annotations(task_id=task[\"id\"]) for task in tasks]\n",
    "annotations"
   ]
  },
  {
   "cell_type": "code",
   "execution_count": 15,
   "metadata": {},
   "outputs": [
    {
     "data": {
      "text/plain": [
       "{'id': 5,\n",
       " 'predictions': [],\n",
       " 'annotations': [{'id': 1,\n",
       "   'created_username': ' sviatoslavs999@gmail.com, 1',\n",
       "   'created_ago': '1\\xa0hour, 12\\xa0minutes',\n",
       "   'completed_by': 1,\n",
       "   'result': [{'original_width': 1280,\n",
       "     'original_height': 720,\n",
       "     'image_rotation': 0,\n",
       "     'value': {'x': 47.81365582307086,\n",
       "      'y': 74.79543660929127,\n",
       "      'width': 4.752306230055085,\n",
       "      'height': 7.058740566815749,\n",
       "      'rotation': 0,\n",
       "      'rectanglelabels': ['Car']},\n",
       "     'id': 'Su6Q0fZy14',\n",
       "     'from_name': 'label',\n",
       "     'to_name': 'image',\n",
       "     'type': 'rectanglelabels',\n",
       "     'origin': 'manual'},\n",
       "    {'original_width': 1280,\n",
       "     'original_height': 720,\n",
       "     'image_rotation': 0,\n",
       "     'value': {'x': 29.161451814768462,\n",
       "      'y': 52.0650813516896,\n",
       "      'width': 9.136420525657073,\n",
       "      'height': 14.685022945348365,\n",
       "      'rotation': 0,\n",
       "      'rectanglelabels': ['Car']},\n",
       "     'id': 'wSUA1KAGn7',\n",
       "     'from_name': 'label',\n",
       "     'to_name': 'image',\n",
       "     'type': 'rectanglelabels',\n",
       "     'origin': 'manual'},\n",
       "    {'original_width': 1280,\n",
       "     'original_height': 720,\n",
       "     'image_rotation': 0,\n",
       "     'value': {'x': 47.43429286608261,\n",
       "      'y': 51.17507996106243,\n",
       "      'width': 9.637046307884852,\n",
       "      'height': 13.795021554721181,\n",
       "      'rotation': 0,\n",
       "      'rectanglelabels': ['Tank']},\n",
       "     'id': '2bmG9YtFYf',\n",
       "     'from_name': 'label',\n",
       "     'to_name': 'image',\n",
       "     'type': 'rectanglelabels',\n",
       "     'origin': 'manual'}],\n",
       "   'was_cancelled': False,\n",
       "   'ground_truth': False,\n",
       "   'created_at': '2024-02-22T21:25:05.522746Z',\n",
       "   'updated_at': '2024-02-22T21:39:53.263430Z',\n",
       "   'draft_created_at': '2024-02-21T20:12:16.352837Z',\n",
       "   'lead_time': 752.913,\n",
       "   'import_id': None,\n",
       "   'last_action': None,\n",
       "   'task': 5,\n",
       "   'project': 5,\n",
       "   'updated_by': 1,\n",
       "   'parent_prediction': None,\n",
       "   'parent_annotation': None,\n",
       "   'last_created_by': None}],\n",
       " 'drafts': [],\n",
       " 'annotators': [1],\n",
       " 'inner_id': 1,\n",
       " 'cancelled_annotations': 0,\n",
       " 'total_annotations': 1,\n",
       " 'total_predictions': 0,\n",
       " 'completed_at': '2024-02-22T21:25:05.522746Z',\n",
       " 'annotations_results': '[{original_width: 1280, original_height: 720, image_rotation: 0, value: {x: 47.81365582307086, y: 74.79543660929127, width: 4.752306230055085, height: 7.058740566815749, rotation: 0, rectanglelabels: [Car]}, id: Su6Q0fZy14, from_name: label, to_name: image, type: rectanglelabels, origin: manual}, {original_width: 1280, original_height: 720, image_rotation: 0, value: {x: 29.161451814768462, y: 52.0650813516896, width: 9.136420525657073, hei',\n",
       " 'predictions_results': '',\n",
       " 'predictions_score': None,\n",
       " 'file_upload': 'a8a52801-00000000.jpg',\n",
       " 'storage_filename': None,\n",
       " 'annotations_ids': '1',\n",
       " 'predictions_model_versions': '',\n",
       " 'avg_lead_time': 752.913,\n",
       " 'draft_exists': False,\n",
       " 'updated_by': [{'user_id': 1}],\n",
       " 'data': {'image': '/data/upload/5/a8a52801-00000000.jpg'},\n",
       " 'meta': {},\n",
       " 'created_at': '2024-02-21T20:11:11.400929Z',\n",
       " 'updated_at': '2024-02-22T21:39:53.313491Z',\n",
       " 'is_labeled': True,\n",
       " 'overlap': 1,\n",
       " 'comment_count': 0,\n",
       " 'unresolved_comment_count': 0,\n",
       " 'last_comment_updated_at': None,\n",
       " 'project': 5,\n",
       " 'comment_authors': []}"
      ]
     },
     "execution_count": 15,
     "metadata": {},
     "output_type": "execute_result"
    }
   ],
   "source": [
    "task0"
   ]
  }
 ],
 "metadata": {
  "kernelspec": {
   "display_name": "labeling",
   "language": "python",
   "name": "python3"
  },
  "language_info": {
   "codemirror_mode": {
    "name": "ipython",
    "version": 3
   },
   "file_extension": ".py",
   "mimetype": "text/x-python",
   "name": "python",
   "nbconvert_exporter": "python",
   "pygments_lexer": "ipython3",
   "version": "3.10.13"
  }
 },
 "nbformat": 4,
 "nbformat_minor": 2
}
